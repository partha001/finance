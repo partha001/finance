{
 "cells": [
  {
   "cell_type": "code",
   "execution_count": 1,
   "id": "3d1c60c5-a11e-47fe-82ac-86391608f9e3",
   "metadata": {},
   "outputs": [],
   "source": [
    "import yfinance as yf\n",
    "import pandas as pd\n",
    "import seaborn as sns\n",
    "import matplotlib.pyplot as plt\n",
    "import psycopg2\n",
    "import datetime;"
   ]
  },
  {
   "cell_type": "code",
   "execution_count": 9,
   "id": "0c7f4263-5523-41b9-a4b6-e9259388dc08",
   "metadata": {},
   "outputs": [
    {
     "name": "stderr",
     "output_type": "stream",
     "text": [
      "[*********************100%***********************]  1 of 1 completed\n"
     ]
    },
    {
     "data": {
      "text/plain": [
       "6"
      ]
     },
     "execution_count": 9,
     "metadata": {},
     "output_type": "execute_result"
    }
   ],
   "source": [
    "# ticker = \"^NSEI\"  #for nifty 50\n",
    "ticker = \"^NSMIDCP\"\n",
    "start_date = \"2024-12-01\"\n",
    "end_date = \"2024-12-10\"\n",
    "\n",
    "# Download the historical data for Nifty Index\n",
    "data = yf.download(ticker, start=start_date, end=end_date)\n",
    "data\n",
    "data.index\n",
    "len(data.index)"
   ]
  },
  {
   "cell_type": "code",
   "execution_count": 3,
   "id": "db5451d6-7fdc-4596-b537-52ebc4d6636b",
   "metadata": {},
   "outputs": [
    {
     "name": "stdout",
     "output_type": "stream",
     "text": [
      "records inserted: 6\n"
     ]
    }
   ],
   "source": [
    "# POSTGRES_HOST=localhost\n",
    "# POSTGRES_USERNAME=postgres\n",
    "# POSTGRES_PASSWORD=password\n",
    "# POSTGRES_PORT= 5432\n",
    "# POSTGRES_DATABASE=mydatabase\n",
    "\n",
    "conn = psycopg2.connect(\n",
    "    database='mydatabase', user='postgres', password='password', host='localhost', port= '5432'\n",
    ")\n",
    "\n",
    "cursor = conn.cursor()\n",
    "indexkey = 'NIFTY50'\n",
    "recordsInserted = 0\n",
    "for row in data.itertuples():\n",
    "    # any transformation can be applied here\n",
    "\n",
    "    #ts.strftime('%Y-%m-%d')\n",
    "    priceDate = row.Index.strftime('%Y-%m-%d')\n",
    "    adjustedClosingPrice = row._1\n",
    "    closingPrice = row._2\n",
    "    highPrice = row._3\n",
    "    lowPrice = row._4\n",
    "    openPrice = row._5\n",
    "    volume = row._6\n",
    "    createTime = datetime.datetime.now()\n",
    "    sql = f\"insert into WealthManager.DailyPriceMaster (key,  adjcloseprice, closeprice, openprice, high, low, volume, priceDate, createTime) values ('{indexkey}', {adjustedClosingPrice} , {closingPrice}, {openPrice}, {highPrice}, {lowPrice},{volume}, '{priceDate}', '{createTime}') on conflict(key, priceDate) do nothing \"\n",
    "    cursor.execute(sql)\n",
    "    recordsInserted+=cursor.rowcount\n",
    "    \n",
    "\n",
    "conn.commit()\n",
    "print(f\"records inserted: {recordsInserted}\")\n",
    "    \n",
    "\n",
    "    "
   ]
  },
  {
   "cell_type": "code",
   "execution_count": 4,
   "id": "6c722ed6-a240-42fc-b3a7-0016e5864df8",
   "metadata": {},
   "outputs": [],
   "source": [
    "# print(datetime.datetime.now())\n",
    "# test = datetime.datetime.now()\n",
    "# print(datetime.datetime.now().strftime('%Y-%m-%d %H-%M-%S'))"
   ]
  },
  {
   "cell_type": "code",
   "execution_count": null,
   "id": "bab3799f-6bb9-4e9d-9343-ff94b6a294a3",
   "metadata": {},
   "outputs": [],
   "source": []
  }
 ],
 "metadata": {
  "kernelspec": {
   "display_name": "Python 3 (ipykernel)",
   "language": "python",
   "name": "python3"
  },
  "language_info": {
   "codemirror_mode": {
    "name": "ipython",
    "version": 3
   },
   "file_extension": ".py",
   "mimetype": "text/x-python",
   "name": "python",
   "nbconvert_exporter": "python",
   "pygments_lexer": "ipython3",
   "version": "3.12.4"
  }
 },
 "nbformat": 4,
 "nbformat_minor": 5
}
